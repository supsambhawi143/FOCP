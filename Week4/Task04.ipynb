{
 "cells": [
  {
   "cell_type": "code",
   "execution_count": 1,
   "metadata": {},
   "outputs": [
    {
     "name": "stdout",
     "output_type": "stream",
     "text": [
      "49.0\n"
     ]
    }
   ],
   "source": [
    "import math\n",
    "\n",
    "print(math.sqrt(2401))"
   ]
  },
  {
   "cell_type": "code",
   "execution_count": 2,
   "metadata": {},
   "outputs": [
    {
     "name": "stdout",
     "output_type": "stream",
     "text": [
      "10.0\n"
     ]
    }
   ],
   "source": [
    "from math import log2\n",
    "\n",
    "print(log2(1024))"
   ]
  },
  {
   "cell_type": "code",
   "execution_count": 3,
   "metadata": {},
   "outputs": [
    {
     "name": "stdout",
     "output_type": "stream",
     "text": [
      "Help on function displayTwice in module __main__:\n",
      "\n",
      "displayTwice(msg)\n",
      "    Prints the given message twice\n",
      "\n"
     ]
    }
   ],
   "source": [
    "def displayTwice(msg):\n",
    "    \"\"\"Prints the given message twice\"\"\"\n",
    "    print(msg)\n",
    "    print(msg)\n",
    "\n",
    "help(displayTwice)"
   ]
  },
  {
   "cell_type": "code",
   "execution_count": 4,
   "metadata": {},
   "outputs": [
    {
     "data": {
      "text/plain": [
       "48"
      ]
     },
     "execution_count": 4,
     "metadata": {},
     "output_type": "execute_result"
    }
   ],
   "source": [
    "def sq(x, y = None):\n",
    "    if y is None:\n",
    "        return x * x\n",
    "    else:\n",
    "        return x * y\n",
    "sq(12)\n",
    "sq(12, 4)"
   ]
  },
  {
   "cell_type": "code",
   "execution_count": 5,
   "metadata": {},
   "outputs": [
    {
     "name": "stdout",
     "output_type": "stream",
     "text": [
      "Hi!Sambhawi\n",
      "Hi,Sambhawi\n",
      "HiSambhawi\n"
     ]
    }
   ],
   "source": [
    "print(\"Hi\", \"Sambhawi\", sep=\"!\")\n",
    "print(\"Hi\", \"Sambhawi\", sep=\",\")\n",
    "print(\"Hi\", \"Sambhawi\", sep=\"\")"
   ]
  },
  {
   "cell_type": "code",
   "execution_count": 6,
   "metadata": {},
   "outputs": [
    {
     "data": {
      "text/plain": [
       "function"
      ]
     },
     "execution_count": 6,
     "metadata": {},
     "output_type": "execute_result"
    }
   ],
   "source": [
    "hypot = lambda a, b: math.sqrt(a * a + b * b)\n",
    "\n",
    "type(hypot)"
   ]
  },
  {
   "cell_type": "code",
   "execution_count": 7,
   "metadata": {},
   "outputs": [
    {
     "data": {
      "text/plain": [
       "5400"
      ]
     },
     "execution_count": 7,
     "metadata": {},
     "output_type": "execute_result"
    }
   ],
   "source": [
    "to_seconds = lambda hours, minutes: (hours * 3600) + (minutes * 60)\n",
    "\n",
    "to_seconds(0,2)\n",
    "to_seconds(2,0)\n",
    "to_seconds(1,30)"
   ]
  },
  {
   "cell_type": "code",
   "execution_count": 8,
   "metadata": {},
   "outputs": [
    {
     "data": {
      "text/plain": [
       "7200"
      ]
     },
     "execution_count": 8,
     "metadata": {},
     "output_type": "execute_result"
    }
   ],
   "source": [
    "to_seconds = lambda hours, minutes=0: (hours * 3600) + (minutes * 60)\n",
    "\n",
    "to_seconds(1)\n",
    "to_seconds(2)"
   ]
  }
 ],
 "metadata": {
  "kernelspec": {
   "display_name": "Python 3.10.8 64-bit",
   "language": "python",
   "name": "python3"
  },
  "language_info": {
   "codemirror_mode": {
    "name": "ipython",
    "version": 3
   },
   "file_extension": ".py",
   "mimetype": "text/x-python",
   "name": "python",
   "nbconvert_exporter": "python",
   "pygments_lexer": "ipython3",
   "version": "3.10.8"
  },
  "orig_nbformat": 4,
  "vscode": {
   "interpreter": {
    "hash": "5ace672c5b1e764f2594fb975766ab0232c3136205dd07ac432e1d4e84292747"
   }
  }
 },
 "nbformat": 4,
 "nbformat_minor": 2
}
